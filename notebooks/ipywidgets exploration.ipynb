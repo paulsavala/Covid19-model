{
 "cells": [
  {
   "cell_type": "code",
   "execution_count": 89,
   "metadata": {},
   "outputs": [],
   "source": [
    "import numpy as np\n",
    "from scipy.integrate import odeint\n",
    "\n",
    "from matplotlib import pyplot as plt\n",
    "%matplotlib inline\n",
    "\n",
    "from ipywidgets import interact, interactive, fixed, interact_manual\n",
    "import ipywidgets as widgets\n",
    "from ipywidgets import AppLayout, Button, Layout, TwoByTwoLayout\n",
    "from ipywidgets import VBox, Label, HTML"
   ]
  },
  {
   "cell_type": "markdown",
   "metadata": {},
   "source": [
    "### Setting up the system"
   ]
  },
  {
   "cell_type": "code",
   "execution_count": 128,
   "metadata": {},
   "outputs": [],
   "source": [
    "# DEFAULTS\n",
    "N = 100\n",
    "NUM_DAYS = 30 * 3"
   ]
  },
  {
   "cell_type": "code",
   "execution_count": 117,
   "metadata": {},
   "outputs": [],
   "source": [
    "def diff_eqn(y, t, N, beta, gamma):\n",
    "    S, I, R = y\n",
    "    dSdt = -beta/N * I * S\n",
    "    dIdt = beta/N * S * I - gamma * I \n",
    "    dRdt = gamma * I\n",
    "    return dSdt, dIdt, dRdt"
   ]
  },
  {
   "cell_type": "code",
   "execution_count": 118,
   "metadata": {},
   "outputs": [],
   "source": [
    "def sir_model(beta, gamma, N=N, num_days=NUM_DAYS):\n",
    "    t = np.linspace(0, num_days, num_days)\n",
    "    I0 = 1\n",
    "    R0 = 0\n",
    "    S0 = N - I0 - R0\n",
    "    y0 = (S0, I0, R0)\n",
    "    \n",
    "    soln = odeint(diff_eqn, y0, t, args=(N, beta, gamma))\n",
    "    S, I, R = soln.T\n",
    "    \n",
    "    return S/N, I/N, R/N"
   ]
  },
  {
   "cell_type": "markdown",
   "metadata": {},
   "source": [
    "### Plotting using ipywidgets"
   ]
  },
  {
   "cell_type": "code",
   "execution_count": 119,
   "metadata": {},
   "outputs": [],
   "source": [
    "def plot_sir_model(beta=1, gamma=0.1):\n",
    "    fig, ax = plt.subplots(figsize=(12, 8))\n",
    "    S, I, R = sir_model(beta, gamma)\n",
    "    t = np.arange(NUM_DAYS)\n",
    "    plt.plot(t, S, color='blue', label='Susceptible', lw=2)\n",
    "    plt.plot(t, I, color='red', label='Infected', lw=2)\n",
    "    plt.plot(t, R, color='green', label='Recovered', lw=2)\n",
    "    plt.legend()\n",
    "    plt.show()"
   ]
  },
  {
   "cell_type": "code",
   "execution_count": 120,
   "metadata": {},
   "outputs": [
    {
     "data": {
      "application/vnd.jupyter.widget-view+json": {
       "model_id": "aabfe6dba7d0417f92bf114e243cc75a",
       "version_major": 2,
       "version_minor": 0
      },
      "text/plain": [
       "interactive(children=(FloatSlider(value=1.0, description='beta', max=10.0, step=0.01), FloatSlider(value=0.1, …"
      ]
     },
     "metadata": {},
     "output_type": "display_data"
    },
    {
     "data": {
      "text/plain": [
       "<function __main__.plot_sir_model(beta=1, gamma=0.1)>"
      ]
     },
     "execution_count": 120,
     "metadata": {},
     "output_type": "execute_result"
    }
   ],
   "source": [
    "interact(plot_sir_model, \n",
    "         beta=(0, 10, 0.01), \n",
    "         gamma=(0, 1, 0.01))"
   ]
  }
 ],
 "metadata": {
  "kernelspec": {
   "display_name": "Python 3",
   "language": "python",
   "name": "python3"
  },
  "language_info": {
   "codemirror_mode": {
    "name": "ipython",
    "version": 3
   },
   "file_extension": ".py",
   "mimetype": "text/x-python",
   "name": "python",
   "nbconvert_exporter": "python",
   "pygments_lexer": "ipython3",
   "version": "3.8.2"
  }
 },
 "nbformat": 4,
 "nbformat_minor": 4
}
