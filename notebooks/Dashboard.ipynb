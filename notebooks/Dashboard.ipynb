{
 "cells": [
  {
   "cell_type": "code",
   "execution_count": 203,
   "metadata": {},
   "outputs": [],
   "source": [
    "# nbi:hide_in\n",
    "\n",
    "import numpy as np\n",
    "from scipy.integrate import odeint\n",
    "\n",
    "from matplotlib import pyplot as plt\n",
    "from matplotlib.ticker import PercentFormatter, MultipleLocator\n",
    "from matplotlib import pylab\n",
    "%matplotlib inline\n",
    "\n",
    "from ipywidgets import interact, interactive, fixed, interact_manual\n",
    "import ipywidgets as widgets\n",
    "from ipywidgets import AppLayout, Button, Layout, TwoByTwoLayout\n",
    "from ipywidgets import VBox, Label, HTML, Text\n",
    "\n",
    "import nbinteract as nbi"
   ]
  },
  {
   "cell_type": "code",
   "execution_count": 204,
   "metadata": {},
   "outputs": [],
   "source": [
    "# nbi:hide_in\n",
    "params = {'legend.fontsize': 'x-large',\n",
    "          'figure.figsize': (15, 5),\n",
    "         'axes.labelsize': 'x-large',\n",
    "         'axes.titlesize':'x-large',\n",
    "         'xtick.labelsize':'x-large',\n",
    "         'ytick.labelsize':'x-large'}\n",
    "pylab.rcParams.update(params)"
   ]
  },
  {
   "cell_type": "code",
   "execution_count": 205,
   "metadata": {},
   "outputs": [],
   "source": [
    "# nbi:hide_in\n",
    "\n",
    "# DEFAULTS\n",
    "N = 100\n",
    "NUM_DAYS = 30 * 3"
   ]
  },
  {
   "cell_type": "code",
   "execution_count": 206,
   "metadata": {},
   "outputs": [],
   "source": [
    "# nbi:hide_in\n",
    "\n",
    "def diff_eqn(y, t, N, beta, gamma):\n",
    "    S, I, R = y\n",
    "    dSdt = -beta/N * I * S\n",
    "    dIdt = beta/N * S * I - gamma * I \n",
    "    dRdt = gamma * I\n",
    "    return dSdt, dIdt, dRdt"
   ]
  },
  {
   "cell_type": "code",
   "execution_count": 207,
   "metadata": {},
   "outputs": [],
   "source": [
    "# nbi:hide_in\n",
    "\n",
    "def sir_model(beta, gamma, N=N, num_days=NUM_DAYS):\n",
    "    t = np.linspace(0, num_days, num_days)\n",
    "    I0 = 1\n",
    "    R0 = 0\n",
    "    S0 = N - I0 - R0\n",
    "    y0 = (S0, I0, R0)\n",
    "    \n",
    "    soln = odeint(diff_eqn, y0, t, args=(N, beta, gamma))\n",
    "    S, I, R = soln.T\n",
    "    \n",
    "    return S/N, I/N, R/N"
   ]
  },
  {
   "cell_type": "code",
   "execution_count": 208,
   "metadata": {},
   "outputs": [],
   "source": [
    "# nbi:hide_in\n",
    "\n",
    "def plot_sir_model(beta=1, gamma=10):\n",
    "    if gamma > 1:\n",
    "        gamma = gamma / 100\n",
    "    fig, ax = plt.subplots(figsize=(12, 8))\n",
    "    S, I, R = sir_model(beta, gamma)\n",
    "    t = np.arange(NUM_DAYS)\n",
    "    plt.plot(t, S, color='blue', label='Susceptible', lw=2)\n",
    "    plt.plot(t, I, color='red', label='Infected', lw=2)\n",
    "    plt.plot(t, R, color='green', label='Recovered', lw=2)\n",
    "    \n",
    "    plt.xlabel('Days', fontsize=16)\n",
    "    plt.ylabel('Percent of population', fontsize=16)\n",
    "    \n",
    "    ax.yaxis.set_major_formatter(PercentFormatter(1.0))\n",
    "    ax.xaxis.set_major_locator(MultipleLocator(base=5))\n",
    "    \n",
    "    plt.legend()\n",
    "    plt.show()"
   ]
  },
  {
   "cell_type": "code",
   "execution_count": 209,
   "metadata": {},
   "outputs": [],
   "source": [
    "# nbi:hide_in\n",
    "\n",
    "def create_expanded_button(description, button_style):\n",
    "    return Button(description=description, button_style=button_style)"
   ]
  },
  {
   "cell_type": "code",
   "execution_count": 210,
   "metadata": {},
   "outputs": [],
   "source": [
    "# nbi:hide_in\n",
    "\n",
    "sir_plot = interactive(plot_sir_model, \n",
    "                       beta=(0, 10, 0.1), \n",
    "                       gamma=(0, 100, 1))\n",
    "\n",
    "beta_slider, gamma_slider, sir_graph = sir_plot.children\n",
    "\n",
    "beta_slider.description = ''\n",
    "beta_slider.layout.width = 'auto'\n",
    "beta_slider.layout.margin = '0px 0px 40px 0'\n",
    "\n",
    "gamma_slider.description = ''\n",
    "gamma_slider.layout.width = 'auto'\n",
    "gamma_slider.layout.margin = '0px 0px 20px 0'"
   ]
  },
  {
   "cell_type": "code",
   "execution_count": 211,
   "metadata": {},
   "outputs": [],
   "source": [
    "# nbi:hide_in\n",
    "\n",
    "header = HTML('<h1>Coronavirus infection model</h1>')"
   ]
  },
  {
   "cell_type": "code",
   "execution_count": 212,
   "metadata": {},
   "outputs": [],
   "source": [
    "# nbi:hide_in\n",
    "\n",
    "slider_box = VBox([HTML('Number of people each infected person comes into contact with on a daily basis:'),\n",
    "                   beta_slider,\n",
    "                   HTML('Percentage of infected people who recover on a daily basis:'),\n",
    "                   gamma_slider])"
   ]
  },
  {
   "cell_type": "code",
   "execution_count": 213,
   "metadata": {},
   "outputs": [
    {
     "data": {
      "application/vnd.jupyter.widget-view+json": {
       "model_id": "68df5dad525b4977bbf3eb42044eae9e",
       "version_major": 2,
       "version_minor": 0
      },
      "text/plain": [
       "AppLayout(children=(HTML(value='<h1>Coronavirus infection model</h1>', layout=Layout(grid_area='header')), VBo…"
      ]
     },
     "metadata": {},
     "output_type": "display_data"
    }
   ],
   "source": [
    "# nbi:hide_in\n",
    "\n",
    "AppLayout(header=header,\n",
    "          left_sidebar=slider_box,\n",
    "          center=sir_graph,\n",
    "          right_sidebar=None,\n",
    "          footer=None)"
   ]
  },
  {
   "cell_type": "code",
   "execution_count": null,
   "metadata": {},
   "outputs": [],
   "source": []
  }
 ],
 "metadata": {
  "kernelspec": {
   "display_name": "Python 3",
   "language": "python",
   "name": "python3"
  },
  "language_info": {
   "codemirror_mode": {
    "name": "ipython",
    "version": 3
   },
   "file_extension": ".py",
   "mimetype": "text/x-python",
   "name": "python",
   "nbconvert_exporter": "python",
   "pygments_lexer": "ipython3",
   "version": "3.8.2"
  }
 },
 "nbformat": 4,
 "nbformat_minor": 2
}
